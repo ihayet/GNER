{
 "cells": [
  {
   "cell_type": "code",
   "execution_count": 1,
   "id": "d8495c50-7705-4b9d-a5a5-789b46499852",
   "metadata": {
    "ExecuteTime": {
     "end_time": "2023-05-22T13:45:21.418796Z",
     "start_time": "2023-05-22T13:45:20.267877Z"
    }
   },
   "outputs": [],
   "source": [
    "import numpy as np\n",
    "import pandas as pd"
   ]
  },
  {
   "cell_type": "code",
   "execution_count": 4,
   "id": "e706c5ad-d613-44ab-bcd0-0ad1701074ab",
   "metadata": {
    "ExecuteTime": {
     "end_time": "2023-05-22T13:45:26.042436Z",
     "start_time": "2023-05-22T13:45:26.033161Z"
    }
   },
   "outputs": [],
   "source": [
    "input_fname = '../../Train_Tagged_Titles/Train_Tagged_Titles.tsv'"
   ]
  },
  {
   "cell_type": "code",
   "execution_count": 5,
   "id": "e0858c0a-3cc5-408d-aa90-459adcc79c0f",
   "metadata": {
    "ExecuteTime": {
     "end_time": "2023-05-22T13:45:31.903557Z",
     "start_time": "2023-05-22T13:45:31.503809Z"
    }
   },
   "outputs": [],
   "source": [
    "df = pd.read_csv(input_fname, sep='\\t')"
   ]
  },
  {
   "cell_type": "code",
   "execution_count": 6,
   "id": "22f9f0c8-41c4-4240-a440-e2cd145d832a",
   "metadata": {},
   "outputs": [],
   "source": [
    "df.drop(['Unnamed: 4'], axis=1, inplace=True)\n",
    "df.reset_index(drop=True, inplace=True)"
   ]
  },
  {
   "cell_type": "code",
   "execution_count": 7,
   "id": "03e59957-be73-4e24-8323-7960114048d0",
   "metadata": {},
   "outputs": [
    {
     "name": "stdout",
     "output_type": "stream",
     "text": [
      "Record Number                                                    1\n",
      "Title            Supreme Nike SB Dunk High By any Means Red US1...\n",
      "Token                                                      Supreme\n",
      "Tag                                                         Modell\n",
      "Name: 0, dtype: object\n"
     ]
    }
   ],
   "source": [
    "# df.head(30)\n",
    "print(df.iloc[0])"
   ]
  },
  {
   "cell_type": "code",
   "execution_count": 8,
   "id": "44d2fee9-fb72-4944-bbc2-d8afb5845877",
   "metadata": {},
   "outputs": [
    {
     "name": "stdout",
     "output_type": "stream",
     "text": [
      "52005\n"
     ]
    }
   ],
   "source": [
    "print(len(df))"
   ]
  },
  {
   "cell_type": "code",
   "execution_count": 9,
   "id": "7677b069-d0d2-4389-a1bc-db4739187e9d",
   "metadata": {},
   "outputs": [],
   "source": [
    "from spacy_langdetect import LanguageDetector\n",
    "import spacy"
   ]
  },
  {
   "cell_type": "code",
   "execution_count": 12,
   "id": "5823c8e4-aac7-4b27-a467-cb4b0c3b86fb",
   "metadata": {},
   "outputs": [
    {
     "data": {
      "text/html": [
       "<div>\n",
       "<style scoped>\n",
       "    .dataframe tbody tr th:only-of-type {\n",
       "        vertical-align: middle;\n",
       "    }\n",
       "\n",
       "    .dataframe tbody tr th {\n",
       "        vertical-align: top;\n",
       "    }\n",
       "\n",
       "    .dataframe thead th {\n",
       "        text-align: right;\n",
       "    }\n",
       "</style>\n",
       "<table border=\"1\" class=\"dataframe\">\n",
       "  <thead>\n",
       "    <tr style=\"text-align: right;\">\n",
       "      <th></th>\n",
       "      <th>Record Number</th>\n",
       "      <th>Title</th>\n",
       "      <th>Token</th>\n",
       "      <th>Tag</th>\n",
       "    </tr>\n",
       "  </thead>\n",
       "  <tbody>\n",
       "    <tr>\n",
       "      <th>0</th>\n",
       "      <td>1</td>\n",
       "      <td>Supreme Nike SB Dunk High By any Means Red US1...</td>\n",
       "      <td>Supreme</td>\n",
       "      <td>Modell</td>\n",
       "    </tr>\n",
       "    <tr>\n",
       "      <th>1</th>\n",
       "      <td>1</td>\n",
       "      <td>Supreme Nike SB Dunk High By any Means Red US1...</td>\n",
       "      <td>Nike</td>\n",
       "      <td>Marke</td>\n",
       "    </tr>\n",
       "    <tr>\n",
       "      <th>2</th>\n",
       "      <td>1</td>\n",
       "      <td>Supreme Nike SB Dunk High By any Means Red US1...</td>\n",
       "      <td>SB Dunk</td>\n",
       "      <td>Produktlinie</td>\n",
       "    </tr>\n",
       "    <tr>\n",
       "      <th>3</th>\n",
       "      <td>1</td>\n",
       "      <td>Supreme Nike SB Dunk High By any Means Red US1...</td>\n",
       "      <td>High</td>\n",
       "      <td>Schuhschaft-Typ</td>\n",
       "    </tr>\n",
       "    <tr>\n",
       "      <th>4</th>\n",
       "      <td>1</td>\n",
       "      <td>Supreme Nike SB Dunk High By any Means Red US1...</td>\n",
       "      <td>By any Means</td>\n",
       "      <td>Modell</td>\n",
       "    </tr>\n",
       "    <tr>\n",
       "      <th>5</th>\n",
       "      <td>1</td>\n",
       "      <td>Supreme Nike SB Dunk High By any Means Red US1...</td>\n",
       "      <td>Red</td>\n",
       "      <td>Farbe</td>\n",
       "    </tr>\n",
       "    <tr>\n",
       "      <th>6</th>\n",
       "      <td>1</td>\n",
       "      <td>Supreme Nike SB Dunk High By any Means Red US1...</td>\n",
       "      <td>US10</td>\n",
       "      <td>US-Schuhgröße</td>\n",
       "    </tr>\n",
       "    <tr>\n",
       "      <th>7</th>\n",
       "      <td>1</td>\n",
       "      <td>Supreme Nike SB Dunk High By any Means Red US1...</td>\n",
       "      <td>EU44</td>\n",
       "      <td>EU-Schuhgröße</td>\n",
       "    </tr>\n",
       "    <tr>\n",
       "      <th>8</th>\n",
       "      <td>1</td>\n",
       "      <td>Supreme Nike SB Dunk High By any Means Red US1...</td>\n",
       "      <td>Supreme</td>\n",
       "      <td>No Tag</td>\n",
       "    </tr>\n",
       "    <tr>\n",
       "      <th>9</th>\n",
       "      <td>1</td>\n",
       "      <td>Supreme Nike SB Dunk High By any Means Red US1...</td>\n",
       "      <td>Box</td>\n",
       "      <td>No Tag</td>\n",
       "    </tr>\n",
       "    <tr>\n",
       "      <th>10</th>\n",
       "      <td>1</td>\n",
       "      <td>Supreme Nike SB Dunk High By any Means Red US1...</td>\n",
       "      <td>Logo</td>\n",
       "      <td>Akzente</td>\n",
       "    </tr>\n",
       "    <tr>\n",
       "      <th>11</th>\n",
       "      <td>1</td>\n",
       "      <td>Supreme Nike SB Dunk High By any Means Red US1...</td>\n",
       "      <td>Air Force</td>\n",
       "      <td>Produktlinie</td>\n",
       "    </tr>\n",
       "    <tr>\n",
       "      <th>12</th>\n",
       "      <td>2</td>\n",
       "      <td>New Balance 530 Männer und Frauen Laufschuhe m...</td>\n",
       "      <td>New Balance</td>\n",
       "      <td>Marke</td>\n",
       "    </tr>\n",
       "    <tr>\n",
       "      <th>13</th>\n",
       "      <td>2</td>\n",
       "      <td>New Balance 530 Männer und Frauen Laufschuhe m...</td>\n",
       "      <td>530</td>\n",
       "      <td>Modell</td>\n",
       "    </tr>\n",
       "    <tr>\n",
       "      <th>14</th>\n",
       "      <td>2</td>\n",
       "      <td>New Balance 530 Männer und Frauen Laufschuhe m...</td>\n",
       "      <td>Männer</td>\n",
       "      <td>Abteilung</td>\n",
       "    </tr>\n",
       "    <tr>\n",
       "      <th>15</th>\n",
       "      <td>2</td>\n",
       "      <td>New Balance 530 Männer und Frauen Laufschuhe m...</td>\n",
       "      <td>und</td>\n",
       "      <td>No Tag</td>\n",
       "    </tr>\n",
       "    <tr>\n",
       "      <th>16</th>\n",
       "      <td>2</td>\n",
       "      <td>New Balance 530 Männer und Frauen Laufschuhe m...</td>\n",
       "      <td>Frauen</td>\n",
       "      <td>Abteilung</td>\n",
       "    </tr>\n",
       "    <tr>\n",
       "      <th>17</th>\n",
       "      <td>2</td>\n",
       "      <td>New Balance 530 Männer und Frauen Laufschuhe m...</td>\n",
       "      <td>Laufschuhe</td>\n",
       "      <td>Produktart</td>\n",
       "    </tr>\n",
       "    <tr>\n",
       "      <th>18</th>\n",
       "      <td>2</td>\n",
       "      <td>New Balance 530 Männer und Frauen Laufschuhe m...</td>\n",
       "      <td>mit</td>\n",
       "      <td>No Tag</td>\n",
       "    </tr>\n",
       "    <tr>\n",
       "      <th>19</th>\n",
       "      <td>2</td>\n",
       "      <td>New Balance 530 Männer und Frauen Laufschuhe m...</td>\n",
       "      <td>Buchstaben N</td>\n",
       "      <td>Muster</td>\n",
       "    </tr>\n",
       "    <tr>\n",
       "      <th>20</th>\n",
       "      <td>2</td>\n",
       "      <td>New Balance 530 Männer und Frauen Laufschuhe m...</td>\n",
       "      <td>bequeme</td>\n",
       "      <td>No Tag</td>\n",
       "    </tr>\n",
       "    <tr>\n",
       "      <th>21</th>\n",
       "      <td>2</td>\n",
       "      <td>New Balance 530 Männer und Frauen Laufschuhe m...</td>\n",
       "      <td>Laufschuhe</td>\n",
       "      <td>Produktart</td>\n",
       "    </tr>\n",
       "    <tr>\n",
       "      <th>22</th>\n",
       "      <td>3</td>\n",
       "      <td>♥ MICHAEL KORS Sneaker Gr 39 ♥</td>\n",
       "      <td>♥</td>\n",
       "      <td>No Tag</td>\n",
       "    </tr>\n",
       "    <tr>\n",
       "      <th>23</th>\n",
       "      <td>3</td>\n",
       "      <td>♥ MICHAEL KORS Sneaker Gr 39 ♥</td>\n",
       "      <td>MICHAEL KORS</td>\n",
       "      <td>Marke</td>\n",
       "    </tr>\n",
       "    <tr>\n",
       "      <th>24</th>\n",
       "      <td>3</td>\n",
       "      <td>♥ MICHAEL KORS Sneaker Gr 39 ♥</td>\n",
       "      <td>Sneaker</td>\n",
       "      <td>Stil</td>\n",
       "    </tr>\n",
       "    <tr>\n",
       "      <th>25</th>\n",
       "      <td>3</td>\n",
       "      <td>♥ MICHAEL KORS Sneaker Gr 39 ♥</td>\n",
       "      <td>Gr</td>\n",
       "      <td>No Tag</td>\n",
       "    </tr>\n",
       "    <tr>\n",
       "      <th>26</th>\n",
       "      <td>3</td>\n",
       "      <td>♥ MICHAEL KORS Sneaker Gr 39 ♥</td>\n",
       "      <td>39</td>\n",
       "      <td>EU-Schuhgröße</td>\n",
       "    </tr>\n",
       "    <tr>\n",
       "      <th>27</th>\n",
       "      <td>3</td>\n",
       "      <td>♥ MICHAEL KORS Sneaker Gr 39 ♥</td>\n",
       "      <td>♥</td>\n",
       "      <td>No Tag</td>\n",
       "    </tr>\n",
       "    <tr>\n",
       "      <th>28</th>\n",
       "      <td>4</td>\n",
       "      <td>New Balance ML 574 EGO Turnschuhe grün</td>\n",
       "      <td>New Balance</td>\n",
       "      <td>Marke</td>\n",
       "    </tr>\n",
       "    <tr>\n",
       "      <th>29</th>\n",
       "      <td>4</td>\n",
       "      <td>New Balance ML 574 EGO Turnschuhe grün</td>\n",
       "      <td>ML 574 EGO</td>\n",
       "      <td>Modell</td>\n",
       "    </tr>\n",
       "  </tbody>\n",
       "</table>\n",
       "</div>"
      ],
      "text/plain": [
       "   Record Number                                              Title  \\\n",
       "0              1  Supreme Nike SB Dunk High By any Means Red US1...   \n",
       "1              1  Supreme Nike SB Dunk High By any Means Red US1...   \n",
       "2              1  Supreme Nike SB Dunk High By any Means Red US1...   \n",
       "3              1  Supreme Nike SB Dunk High By any Means Red US1...   \n",
       "4              1  Supreme Nike SB Dunk High By any Means Red US1...   \n",
       "5              1  Supreme Nike SB Dunk High By any Means Red US1...   \n",
       "6              1  Supreme Nike SB Dunk High By any Means Red US1...   \n",
       "7              1  Supreme Nike SB Dunk High By any Means Red US1...   \n",
       "8              1  Supreme Nike SB Dunk High By any Means Red US1...   \n",
       "9              1  Supreme Nike SB Dunk High By any Means Red US1...   \n",
       "10             1  Supreme Nike SB Dunk High By any Means Red US1...   \n",
       "11             1  Supreme Nike SB Dunk High By any Means Red US1...   \n",
       "12             2  New Balance 530 Männer und Frauen Laufschuhe m...   \n",
       "13             2  New Balance 530 Männer und Frauen Laufschuhe m...   \n",
       "14             2  New Balance 530 Männer und Frauen Laufschuhe m...   \n",
       "15             2  New Balance 530 Männer und Frauen Laufschuhe m...   \n",
       "16             2  New Balance 530 Männer und Frauen Laufschuhe m...   \n",
       "17             2  New Balance 530 Männer und Frauen Laufschuhe m...   \n",
       "18             2  New Balance 530 Männer und Frauen Laufschuhe m...   \n",
       "19             2  New Balance 530 Männer und Frauen Laufschuhe m...   \n",
       "20             2  New Balance 530 Männer und Frauen Laufschuhe m...   \n",
       "21             2  New Balance 530 Männer und Frauen Laufschuhe m...   \n",
       "22             3                     ♥ MICHAEL KORS Sneaker Gr 39 ♥   \n",
       "23             3                     ♥ MICHAEL KORS Sneaker Gr 39 ♥   \n",
       "24             3                     ♥ MICHAEL KORS Sneaker Gr 39 ♥   \n",
       "25             3                     ♥ MICHAEL KORS Sneaker Gr 39 ♥   \n",
       "26             3                     ♥ MICHAEL KORS Sneaker Gr 39 ♥   \n",
       "27             3                     ♥ MICHAEL KORS Sneaker Gr 39 ♥   \n",
       "28             4             New Balance ML 574 EGO Turnschuhe grün   \n",
       "29             4             New Balance ML 574 EGO Turnschuhe grün   \n",
       "\n",
       "           Token              Tag  \n",
       "0        Supreme           Modell  \n",
       "1           Nike            Marke  \n",
       "2        SB Dunk     Produktlinie  \n",
       "3           High  Schuhschaft-Typ  \n",
       "4   By any Means           Modell  \n",
       "5            Red            Farbe  \n",
       "6           US10    US-Schuhgröße  \n",
       "7           EU44    EU-Schuhgröße  \n",
       "8        Supreme           No Tag  \n",
       "9            Box           No Tag  \n",
       "10          Logo          Akzente  \n",
       "11     Air Force     Produktlinie  \n",
       "12   New Balance            Marke  \n",
       "13           530           Modell  \n",
       "14        Männer        Abteilung  \n",
       "15           und           No Tag  \n",
       "16        Frauen        Abteilung  \n",
       "17    Laufschuhe       Produktart  \n",
       "18           mit           No Tag  \n",
       "19  Buchstaben N           Muster  \n",
       "20       bequeme           No Tag  \n",
       "21    Laufschuhe       Produktart  \n",
       "22             ♥           No Tag  \n",
       "23  MICHAEL KORS            Marke  \n",
       "24       Sneaker             Stil  \n",
       "25            Gr           No Tag  \n",
       "26            39    EU-Schuhgröße  \n",
       "27             ♥           No Tag  \n",
       "28   New Balance            Marke  \n",
       "29    ML 574 EGO           Modell  "
      ]
     },
     "execution_count": 12,
     "metadata": {},
     "output_type": "execute_result"
    }
   ],
   "source": [
    "df.head(30)"
   ]
  },
  {
   "cell_type": "code",
   "execution_count": 9,
   "id": "8057a64c",
   "metadata": {},
   "outputs": [
    {
     "name": "stdout",
     "output_type": "stream",
     "text": [
      "<class 'pandas.core.frame.DataFrame'>\n",
      "RangeIndex: 52005 entries, 0 to 52004\n",
      "Data columns (total 4 columns):\n",
      " #   Column         Non-Null Count  Dtype \n",
      "---  ------         --------------  ----- \n",
      " 0   Record Number  52005 non-null  object\n",
      " 1   Title          52004 non-null  object\n",
      " 2   Token          52001 non-null  object\n",
      " 3   Tag            42164 non-null  object\n",
      "dtypes: object(4)\n",
      "memory usage: 1.6+ MB\n"
     ]
    }
   ],
   "source": [
    "df.info()"
   ]
  },
  {
   "cell_type": "code",
   "execution_count": 10,
   "id": "a8ba71d1",
   "metadata": {},
   "outputs": [],
   "source": [
    "from spacy.language import Language"
   ]
  },
  {
   "cell_type": "code",
   "execution_count": 12,
   "id": "b94bc53f",
   "metadata": {},
   "outputs": [
    {
     "name": "stderr",
     "output_type": "stream",
     "text": [
      "/opt/anaconda3/envs/ebaynlp/lib/python3.11/site-packages/tqdm/auto.py:21: TqdmWarning: IProgress not found. Please update jupyter and ipywidgets. See https://ipywidgets.readthedocs.io/en/stable/user_install.html\n",
      "  from .autonotebook import tqdm as notebook_tqdm\n"
     ]
    },
    {
     "name": "stdout",
     "output_type": "stream",
     "text": [
      "{'language': 'de', 'score': 0.8571399155765819}\n"
     ]
    }
   ],
   "source": [
    "def get_lang_detector(nlp, name):\n",
    "    return LanguageDetector()\n",
    "\n",
    "nlp = spacy.load(\"en_core_web_sm\")\n",
    "Language.factory(\"language_detector\", func=get_lang_detector)\n",
    "nlp.add_pipe('language_detector', last=True)\n",
    "text = 'Supreme Nike SB Dunk High By any Means Red US10 EU44 Supreme Box Logo Air Force'\n",
    "text2 = 'NEU SKECHERS Damen Sneakers Turnschuhe Memory Foam MODA - LAZY SUNDAYS Blau'\n",
    "doc = nlp(text2)\n",
    "print(doc._.language)"
   ]
  },
  {
   "cell_type": "code",
   "execution_count": 13,
   "id": "7677b069-d0d2-4389-a1bc-db4739187e9d",
   "metadata": {},
   "outputs": [],
   "source": []
  },
  {
   "cell_type": "code",
   "execution_count": 25,
   "id": "83eca15e-f7eb-4811-beac-f966e23b6757",
   "metadata": {},
   "outputs": [],
   "source": [
    "import spacy\n",
    "from spacy.tokens import DocBin\n",
    "import re"
   ]
  },
  {
   "cell_type": "code",
   "execution_count": 27,
   "id": "4f64eef5-d96e-477a-a7bc-185f708d946e",
   "metadata": {},
   "outputs": [],
   "source": [
    "nlpEN = spacy.blank('en')\n",
    "nlpDE = spacy.blank('de')\n",
    "db = DocBin()"
   ]
  },
  {
   "cell_type": "code",
   "execution_count": null,
   "id": "e6802177-c99d-4c46-aa9c-bd6b93356e55",
   "metadata": {},
   "outputs": [],
   "source": [
    "for idx, row in df.iterrows():\n",
    "    text = row['Title']\n",
    "    token = row['Token']\n",
    "    \n",
    "    doc = None\n",
    "    if text is #English\n",
    "        doc = nlpEN.make_doc(text)\n",
    "    else: #German\n",
    "        doc = nlpDE.make_doc(text)\n",
    "        \n",
    "    ents = []\n",
    "    for match in re.finditer(token, text):\n",
    "        span = doc.char_span(match.span()[0], match.span()[1], label = row['Tag'], alignment_mode='contract')\n",
    "        if span is None:\n",
    "            print('Skipping entity')\n",
    "        else:\n",
    "            ents.append(span)\n",
    "    \n",
    "    doc.ents = ents\n",
    "    db.add(doc)"
   ]
  },
  {
   "cell_type": "code",
   "execution_count": null,
   "id": "c4d74803-501f-402c-9ee0-e89a9d639d32",
   "metadata": {},
   "outputs": [],
   "source": []
  },
  {
   "cell_type": "code",
   "execution_count": null,
   "id": "9de45461-3f35-4721-b317-c904fed0b94d",
   "metadata": {},
   "outputs": [],
   "source": []
  },
  {
   "cell_type": "code",
   "execution_count": null,
   "id": "8e456003-7a81-4932-987d-2ecfe8ea0884",
   "metadata": {},
   "outputs": [],
   "source": []
  },
  {
   "cell_type": "code",
   "execution_count": null,
   "id": "8f9ebea9-7da7-4e60-909b-7670641e4c1e",
   "metadata": {},
   "outputs": [],
   "source": []
  },
  {
   "cell_type": "code",
   "execution_count": null,
   "id": "ccd7e25c-ab24-4723-88ad-faa3b1ec71fa",
   "metadata": {},
   "outputs": [],
   "source": []
  }
 ],
 "metadata": {
  "kernelspec": {
   "display_name": "Python 3 (ipykernel)",
   "language": "python",
   "name": "python3"
  },
  "language_info": {
   "codemirror_mode": {
    "name": "ipython",
    "version": 3
   },
   "file_extension": ".py",
   "mimetype": "text/x-python",
   "name": "python",
   "nbconvert_exporter": "python",
   "pygments_lexer": "ipython3",
   "version": "3.11.3"
  }
 },
 "nbformat": 4,
 "nbformat_minor": 5
}
