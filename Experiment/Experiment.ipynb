{
 "cells": [
  {
   "cell_type": "code",
   "execution_count": 12,
   "id": "d8495c50-7705-4b9d-a5a5-789b46499852",
   "metadata": {},
   "outputs": [],
   "source": [
    "import numpy as np\n",
    "import pandas as pd"
   ]
  },
  {
   "cell_type": "code",
   "execution_count": 74,
   "id": "e706c5ad-d613-44ab-bcd0-0ad1701074ab",
   "metadata": {},
   "outputs": [],
   "source": [
    "input_fname = '../Train_Tagged_Titles/Train_Tagged_Titles.tsv'"
   ]
  },
  {
   "cell_type": "code",
   "execution_count": 98,
   "id": "e0858c0a-3cc5-408d-aa90-459adcc79c0f",
   "metadata": {},
   "outputs": [],
   "source": [
    "df = pd.read_csv(input_fname, sep='\\t')"
   ]
  },
  {
   "cell_type": "code",
   "execution_count": 99,
   "id": "22f9f0c8-41c4-4240-a440-e2cd145d832a",
   "metadata": {},
   "outputs": [],
   "source": [
    "df.drop(['Unnamed: 4'], axis=1, inplace=True)\n",
    "df.reset_index(drop=True, inplace=True)"
   ]
  },
  {
   "cell_type": "code",
   "execution_count": 100,
   "id": "03e59957-be73-4e24-8323-7960114048d0",
   "metadata": {},
   "outputs": [
    {
     "name": "stdout",
     "output_type": "stream",
     "text": [
      "Record Number                                                    1\n",
      "Title            Supreme Nike SB Dunk High By any Means Red US1...\n",
      "Token                                                      Supreme\n",
      "Tag                                                         Modell\n",
      "Name: 0, dtype: object\n"
     ]
    }
   ],
   "source": [
    "# df.head(30)\n",
    "print(df.iloc[0])"
   ]
  },
  {
   "cell_type": "code",
   "execution_count": 101,
   "id": "44d2fee9-fb72-4944-bbc2-d8afb5845877",
   "metadata": {},
   "outputs": [
    {
     "name": "stdout",
     "output_type": "stream",
     "text": [
      "52005\n"
     ]
    }
   ],
   "source": [
    "print(len(df))"
   ]
  },
  {
   "cell_type": "code",
   "execution_count": 102,
   "id": "7677b069-d0d2-4389-a1bc-db4739187e9d",
   "metadata": {},
   "outputs": [],
   "source": [
    "lim = len(df)\n",
    "i = 0\n",
    "\n",
    "while i < lim:    \n",
    "    row = df.iloc[i]\n",
    "    \n",
    "    if row['Tag'] is np.NaN:\n",
    "        df.iloc[i-1]['Token'] = str(df.iloc[i-1]['Token']) + ' ' + str(row['Token'])\n",
    "        df.drop([i], inplace=True)\n",
    "        df.reset_index(drop=True, inplace=True)\n",
    "        \n",
    "        lim = len(df)\n",
    "    else:\n",
    "        i += 1"
   ]
  },
  {
   "cell_type": "code",
   "execution_count": null,
   "id": "5823c8e4-aac7-4b27-a467-cb4b0c3b86fb",
   "metadata": {},
   "outputs": [],
   "source": []
  },
  {
   "cell_type": "code",
   "execution_count": null,
   "id": "ca4df379-8cd5-423f-8ef8-7389c0707872",
   "metadata": {},
   "outputs": [],
   "source": []
  },
  {
   "cell_type": "code",
   "execution_count": null,
   "id": "6ecc30a0-5bce-488f-9e01-721a83629a37",
   "metadata": {},
   "outputs": [],
   "source": []
  }
 ],
 "metadata": {
  "kernelspec": {
   "display_name": "Python 3 (ipykernel)",
   "language": "python",
   "name": "python3"
  },
  "language_info": {
   "codemirror_mode": {
    "name": "ipython",
    "version": 3
   },
   "file_extension": ".py",
   "mimetype": "text/x-python",
   "name": "python",
   "nbconvert_exporter": "python",
   "pygments_lexer": "ipython3",
   "version": "3.10.6"
  }
 },
 "nbformat": 4,
 "nbformat_minor": 5
}
