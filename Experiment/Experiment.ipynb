{
 "cells": [
  {
   "cell_type": "code",
   "execution_count": 1,
   "id": "d8495c50-7705-4b9d-a5a5-789b46499852",
   "metadata": {
    "ExecuteTime": {
     "end_time": "2023-05-22T13:45:21.418796Z",
     "start_time": "2023-05-22T13:45:20.267877Z"
    }
   },
   "outputs": [],
   "source": [
    "import numpy as np\n",
    "import pandas as pd"
   ]
  },
  {
   "cell_type": "code",
   "execution_count": 2,
   "id": "e706c5ad-d613-44ab-bcd0-0ad1701074ab",
   "metadata": {
    "ExecuteTime": {
     "end_time": "2023-05-22T13:45:26.042436Z",
     "start_time": "2023-05-22T13:45:26.033161Z"
    }
   },
   "outputs": [],
   "source": [
    "input_fname = 'Train_Tagged_Titles.tsv'"
   ]
  },
  {
   "cell_type": "code",
   "execution_count": 3,
   "id": "e0858c0a-3cc5-408d-aa90-459adcc79c0f",
   "metadata": {
    "ExecuteTime": {
     "end_time": "2023-05-22T13:45:31.903557Z",
     "start_time": "2023-05-22T13:45:31.503809Z"
    }
   },
   "outputs": [],
   "source": [
    "df = pd.read_csv(input_fname, sep='\\t')"
   ]
  },
  {
   "cell_type": "code",
   "execution_count": 4,
   "id": "22f9f0c8-41c4-4240-a440-e2cd145d832a",
   "metadata": {},
   "outputs": [],
   "source": [
    "df.drop(['Unnamed: 4'], axis=1, inplace=True)\n",
    "df.reset_index(drop=True, inplace=True)"
   ]
  },
  {
   "cell_type": "code",
   "execution_count": 5,
   "id": "03e59957-be73-4e24-8323-7960114048d0",
   "metadata": {},
   "outputs": [
    {
     "name": "stdout",
     "output_type": "stream",
     "text": [
      "Record Number                                                    1\n",
      "Title            Supreme Nike SB Dunk High By any Means Red US1...\n",
      "Token                                                      Supreme\n",
      "Tag                                                         Modell\n",
      "Name: 0, dtype: object\n"
     ]
    }
   ],
   "source": [
    "# df.head(30)\n",
    "print(df.iloc[0])"
   ]
  },
  {
   "cell_type": "code",
   "execution_count": 6,
   "id": "44d2fee9-fb72-4944-bbc2-d8afb5845877",
   "metadata": {},
   "outputs": [
    {
     "name": "stdout",
     "output_type": "stream",
     "text": [
      "52005\n"
     ]
    }
   ],
   "source": [
    "print(len(df))"
   ]
  },
  {
   "cell_type": "code",
   "execution_count": 7,
   "id": "ec25b840-85b5-4fba-8a8a-366da76ea4ee",
   "metadata": {},
   "outputs": [],
   "source": [
    "from spacy_langdetect import LanguageDetector\n",
    "import spacy"
   ]
  },
  {
   "cell_type": "code",
   "execution_count": 8,
   "id": "f0f0e58f",
   "metadata": {},
   "outputs": [
    {
     "data": {
      "text/html": [
       "<div>\n",
       "<style scoped>\n",
       "    .dataframe tbody tr th:only-of-type {\n",
       "        vertical-align: middle;\n",
       "    }\n",
       "\n",
       "    .dataframe tbody tr th {\n",
       "        vertical-align: top;\n",
       "    }\n",
       "\n",
       "    .dataframe thead th {\n",
       "        text-align: right;\n",
       "    }\n",
       "</style>\n",
       "<table border=\"1\" class=\"dataframe\">\n",
       "  <thead>\n",
       "    <tr style=\"text-align: right;\">\n",
       "      <th></th>\n",
       "      <th>Record Number</th>\n",
       "      <th>Title</th>\n",
       "      <th>Token</th>\n",
       "      <th>Tag</th>\n",
       "    </tr>\n",
       "  </thead>\n",
       "  <tbody>\n",
       "    <tr>\n",
       "      <th>0</th>\n",
       "      <td>1</td>\n",
       "      <td>Supreme Nike SB Dunk High By any Means Red US1...</td>\n",
       "      <td>Supreme</td>\n",
       "      <td>Modell</td>\n",
       "    </tr>\n",
       "    <tr>\n",
       "      <th>1</th>\n",
       "      <td>1</td>\n",
       "      <td>Supreme Nike SB Dunk High By any Means Red US1...</td>\n",
       "      <td>Nike</td>\n",
       "      <td>Marke</td>\n",
       "    </tr>\n",
       "    <tr>\n",
       "      <th>2</th>\n",
       "      <td>1</td>\n",
       "      <td>Supreme Nike SB Dunk High By any Means Red US1...</td>\n",
       "      <td>SB</td>\n",
       "      <td>Produktlinie</td>\n",
       "    </tr>\n",
       "    <tr>\n",
       "      <th>3</th>\n",
       "      <td>1</td>\n",
       "      <td>Supreme Nike SB Dunk High By any Means Red US1...</td>\n",
       "      <td>Dunk</td>\n",
       "      <td>NaN</td>\n",
       "    </tr>\n",
       "    <tr>\n",
       "      <th>4</th>\n",
       "      <td>1</td>\n",
       "      <td>Supreme Nike SB Dunk High By any Means Red US1...</td>\n",
       "      <td>High</td>\n",
       "      <td>Schuhschaft-Typ</td>\n",
       "    </tr>\n",
       "  </tbody>\n",
       "</table>\n",
       "</div>"
      ],
      "text/plain": [
       "  Record Number                                              Title    Token  \\\n",
       "0             1  Supreme Nike SB Dunk High By any Means Red US1...  Supreme   \n",
       "1             1  Supreme Nike SB Dunk High By any Means Red US1...     Nike   \n",
       "2             1  Supreme Nike SB Dunk High By any Means Red US1...       SB   \n",
       "3             1  Supreme Nike SB Dunk High By any Means Red US1...     Dunk   \n",
       "4             1  Supreme Nike SB Dunk High By any Means Red US1...     High   \n",
       "\n",
       "               Tag  \n",
       "0           Modell  \n",
       "1            Marke  \n",
       "2     Produktlinie  \n",
       "3              NaN  \n",
       "4  Schuhschaft-Typ  "
      ]
     },
     "execution_count": 8,
     "metadata": {},
     "output_type": "execute_result"
    }
   ],
   "source": [
    "df.head()"
   ]
  },
  {
   "cell_type": "code",
   "execution_count": 9,
   "id": "8057a64c",
   "metadata": {},
   "outputs": [
    {
     "name": "stdout",
     "output_type": "stream",
     "text": [
      "<class 'pandas.core.frame.DataFrame'>\n",
      "RangeIndex: 52005 entries, 0 to 52004\n",
      "Data columns (total 4 columns):\n",
      " #   Column         Non-Null Count  Dtype \n",
      "---  ------         --------------  ----- \n",
      " 0   Record Number  52005 non-null  object\n",
      " 1   Title          52004 non-null  object\n",
      " 2   Token          52001 non-null  object\n",
      " 3   Tag            42164 non-null  object\n",
      "dtypes: object(4)\n",
      "memory usage: 1.6+ MB\n"
     ]
    }
   ],
   "source": [
    "df.info()"
   ]
  },
  {
   "cell_type": "code",
   "execution_count": 10,
   "id": "a8ba71d1",
   "metadata": {},
   "outputs": [],
   "source": [
    "from spacy.language import Language"
   ]
  },
  {
   "cell_type": "code",
   "execution_count": 12,
   "id": "b94bc53f",
   "metadata": {},
   "outputs": [
    {
     "name": "stderr",
     "output_type": "stream",
     "text": [
      "/opt/anaconda3/envs/ebaynlp/lib/python3.11/site-packages/tqdm/auto.py:21: TqdmWarning: IProgress not found. Please update jupyter and ipywidgets. See https://ipywidgets.readthedocs.io/en/stable/user_install.html\n",
      "  from .autonotebook import tqdm as notebook_tqdm\n"
     ]
    },
    {
     "name": "stdout",
     "output_type": "stream",
     "text": [
      "{'language': 'de', 'score': 0.8571399155765819}\n"
     ]
    }
   ],
   "source": [
    "def get_lang_detector(nlp, name):\n",
    "    return LanguageDetector()\n",
    "\n",
    "nlp = spacy.load(\"en_core_web_sm\")\n",
    "Language.factory(\"language_detector\", func=get_lang_detector)\n",
    "nlp.add_pipe('language_detector', last=True)\n",
    "text = 'Supreme Nike SB Dunk High By any Means Red US10 EU44 Supreme Box Logo Air Force'\n",
    "text2 = 'NEU SKECHERS Damen Sneakers Turnschuhe Memory Foam MODA - LAZY SUNDAYS Blau'\n",
    "doc = nlp(text2)\n",
    "print(doc._.language)"
   ]
  },
  {
   "cell_type": "code",
   "execution_count": 13,
   "id": "7677b069-d0d2-4389-a1bc-db4739187e9d",
   "metadata": {},
   "outputs": [],
   "source": [
    "# lim = len(df)\n",
    "# i = 0\n",
    "\n",
    "# while i < lim:    \n",
    "#     row = df.iloc[i]\n",
    "    \n",
    "#     if row['Tag'] is np.NaN:\n",
    "#         df.iloc[i-1]['Token'] = str(df.iloc[i-1]['Token']) + ' ' + str(row['Token'])\n",
    "#         df.drop([i], inplace=True)\n",
    "#         df.reset_index(drop=True, inplace=True)\n",
    "        \n",
    "#         lim = len(df)\n",
    "#     else:\n",
    "#         i += 1"
   ]
  }
 ],
 "metadata": {
  "kernelspec": {
   "display_name": "Python 3 (ipykernel)",
   "language": "python",
   "name": "python3"
  },
  "language_info": {
   "codemirror_mode": {
    "name": "ipython",
    "version": 3
   },
   "file_extension": ".py",
   "mimetype": "text/x-python",
   "name": "python",
   "nbconvert_exporter": "python",
   "pygments_lexer": "ipython3",
   "version": "3.11.3"
  }
 },
 "nbformat": 4,
 "nbformat_minor": 5
}
