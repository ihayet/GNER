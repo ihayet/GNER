{
 "cells": [
  {
   "cell_type": "code",
   "execution_count": 1,
   "id": "d8495c50-7705-4b9d-a5a5-789b46499852",
   "metadata": {
    "ExecuteTime": {
     "end_time": "2023-05-22T13:45:21.418796Z",
     "start_time": "2023-05-22T13:45:20.267877Z"
    }
   },
   "outputs": [],
   "source": [
    "import numpy as np\n",
    "import pandas as pd"
   ]
  },
  {
   "cell_type": "code",
   "execution_count": 2,
   "id": "e706c5ad-d613-44ab-bcd0-0ad1701074ab",
   "metadata": {
    "ExecuteTime": {
     "end_time": "2023-05-22T13:45:26.042436Z",
     "start_time": "2023-05-22T13:45:26.033161Z"
    }
   },
   "outputs": [],
   "source": [
    "input_fname = '../../Train_Tagged_Titles/Train_Tagged_Titles.tsv'"
   ]
  },
  {
   "cell_type": "code",
   "execution_count": 3,
   "id": "e0858c0a-3cc5-408d-aa90-459adcc79c0f",
   "metadata": {
    "ExecuteTime": {
     "end_time": "2023-05-22T13:45:31.903557Z",
     "start_time": "2023-05-22T13:45:31.503809Z"
    }
   },
   "outputs": [],
   "source": [
    "df = pd.read_csv(input_fname, sep='\\t')"
   ]
  },
  {
   "cell_type": "code",
   "execution_count": 4,
   "id": "22f9f0c8-41c4-4240-a440-e2cd145d832a",
   "metadata": {},
   "outputs": [],
   "source": [
    "df.drop(['Unnamed: 4'], axis=1, inplace=True)\n",
    "df.reset_index(drop=True, inplace=True)"
   ]
  },
  {
   "cell_type": "code",
   "execution_count": 5,
   "id": "03e59957-be73-4e24-8323-7960114048d0",
   "metadata": {},
   "outputs": [
    {
     "name": "stdout",
     "output_type": "stream",
     "text": [
      "Record Number                                                    1\n",
      "Title            Supreme Nike SB Dunk High By any Means Red US1...\n",
      "Token                                                      Supreme\n",
      "Tag                                                         Modell\n",
      "Name: 0, dtype: object\n"
     ]
    }
   ],
   "source": [
    "# df.head(30)\n",
    "print(df.iloc[0])"
   ]
  },
  {
   "cell_type": "code",
   "execution_count": 6,
   "id": "44d2fee9-fb72-4944-bbc2-d8afb5845877",
   "metadata": {},
   "outputs": [
    {
     "name": "stdout",
     "output_type": "stream",
     "text": [
      "52005\n"
     ]
    }
   ],
   "source": [
    "print(len(df))"
   ]
  },
  {
   "cell_type": "code",
   "execution_count": 7,
   "id": "7677b069-d0d2-4389-a1bc-db4739187e9d",
   "metadata": {},
   "outputs": [],
   "source": [
    "lim = len(df)\n",
    "i = 0\n",
    "\n",
    "while i < lim:    \n",
    "    row = df.iloc[i]\n",
    "    \n",
    "    if row['Tag'] is np.NaN:\n",
    "        df.iloc[i-1]['Token'] = str(df.iloc[i-1]['Token']) + ' ' + str(row['Token'])\n",
    "        df.drop([i], inplace=True)\n",
    "        df.reset_index(drop=True, inplace=True)\n",
    "        \n",
    "        lim = len(df)\n",
    "    else:\n",
    "        i += 1"
   ]
  },
  {
   "cell_type": "code",
   "execution_count": null,
   "id": "5823c8e4-aac7-4b27-a467-cb4b0c3b86fb",
   "metadata": {},
   "outputs": [],
   "source": [
    "# df.head(30)"
   ]
  },
  {
   "cell_type": "code",
   "execution_count": null,
   "id": "8b331265-55df-4205-a591-ff6abcc2e013",
   "metadata": {},
   "outputs": [],
   "source": []
  },
  {
   "cell_type": "code",
   "execution_count": null,
   "id": "2186e0a8-f588-44c4-80d8-01669ef6758a",
   "metadata": {},
   "outputs": [],
   "source": []
  },
  {
   "cell_type": "code",
   "execution_count": null,
   "id": "9443c9f8-4204-4e34-b578-c5c552964246",
   "metadata": {},
   "outputs": [],
   "source": []
  },
  {
   "cell_type": "markdown",
   "id": "8738c327-0485-4f92-9abb-e0ead85f1f66",
   "metadata": {},
   "source": [
    "# Language Detector"
   ]
  },
  {
   "cell_type": "code",
   "execution_count": 8,
   "id": "e23113b1",
   "metadata": {},
   "outputs": [
    {
     "name": "stderr",
     "output_type": "stream",
     "text": [
      "2023-05-25 22:02:23.186820: I tensorflow/core/platform/cpu_feature_guard.cc:193] This TensorFlow binary is optimized with oneAPI Deep Neural Network Library (oneDNN) to use the following CPU instructions in performance-critical operations:  AVX2 FMA\n",
      "To enable them in other operations, rebuild TensorFlow with the appropriate compiler flags.\n",
      "2023-05-25 22:02:23.452125: W tensorflow/compiler/xla/stream_executor/platform/default/dso_loader.cc:64] Could not load dynamic library 'libcudart.so.11.0'; dlerror: libcudart.so.11.0: cannot open shared object file: No such file or directory\n",
      "2023-05-25 22:02:23.452225: I tensorflow/compiler/xla/stream_executor/cuda/cudart_stub.cc:29] Ignore above cudart dlerror if you do not have a GPU set up on your machine.\n",
      "2023-05-25 22:02:24.589963: W tensorflow/compiler/xla/stream_executor/platform/default/dso_loader.cc:64] Could not load dynamic library 'libnvinfer.so.7'; dlerror: libnvinfer.so.7: cannot open shared object file: No such file or directory\n",
      "2023-05-25 22:02:24.590114: W tensorflow/compiler/xla/stream_executor/platform/default/dso_loader.cc:64] Could not load dynamic library 'libnvinfer_plugin.so.7'; dlerror: libnvinfer_plugin.so.7: cannot open shared object file: No such file or directory\n",
      "2023-05-25 22:02:24.590124: W tensorflow/compiler/tf2tensorrt/utils/py_utils.cc:38] TF-TRT Warning: Cannot dlopen some TensorRT libraries. If you would like to use Nvidia GPU with TensorRT, please make sure the missing libraries mentioned above are installed properly.\n",
      "2023-05-25 22:02:26.313731: I tensorflow/compiler/xla/stream_executor/cuda/cuda_gpu_executor.cc:967] could not open file to read NUMA node: /sys/bus/pci/devices/0000:01:00.0/numa_node\n",
      "Your kernel may have been built without NUMA support.\n",
      "2023-05-25 22:02:26.314058: W tensorflow/compiler/xla/stream_executor/platform/default/dso_loader.cc:64] Could not load dynamic library 'libcudart.so.11.0'; dlerror: libcudart.so.11.0: cannot open shared object file: No such file or directory\n",
      "2023-05-25 22:02:26.314123: W tensorflow/compiler/xla/stream_executor/platform/default/dso_loader.cc:64] Could not load dynamic library 'libcublas.so.11'; dlerror: libcublas.so.11: cannot open shared object file: No such file or directory\n",
      "2023-05-25 22:02:26.314179: W tensorflow/compiler/xla/stream_executor/platform/default/dso_loader.cc:64] Could not load dynamic library 'libcublasLt.so.11'; dlerror: libcublasLt.so.11: cannot open shared object file: No such file or directory\n",
      "2023-05-25 22:02:26.314236: W tensorflow/compiler/xla/stream_executor/platform/default/dso_loader.cc:64] Could not load dynamic library 'libcufft.so.10'; dlerror: libcufft.so.10: cannot open shared object file: No such file or directory\n",
      "2023-05-25 22:02:26.314290: W tensorflow/compiler/xla/stream_executor/platform/default/dso_loader.cc:64] Could not load dynamic library 'libcurand.so.10'; dlerror: libcurand.so.10: cannot open shared object file: No such file or directory\n",
      "2023-05-25 22:02:26.314347: W tensorflow/compiler/xla/stream_executor/platform/default/dso_loader.cc:64] Could not load dynamic library 'libcusolver.so.11'; dlerror: libcusolver.so.11: cannot open shared object file: No such file or directory\n",
      "2023-05-25 22:02:26.314425: W tensorflow/compiler/xla/stream_executor/platform/default/dso_loader.cc:64] Could not load dynamic library 'libcusparse.so.11'; dlerror: libcusparse.so.11: cannot open shared object file: No such file or directory\n",
      "2023-05-25 22:02:26.314482: W tensorflow/compiler/xla/stream_executor/platform/default/dso_loader.cc:64] Could not load dynamic library 'libcudnn.so.8'; dlerror: libcudnn.so.8: cannot open shared object file: No such file or directory\n",
      "2023-05-25 22:02:26.314495: W tensorflow/core/common_runtime/gpu/gpu_device.cc:1934] Cannot dlopen some GPU libraries. Please make sure the missing libraries mentioned above are installed properly if you would like to use GPU. Follow the guide at https://www.tensorflow.org/install/gpu for how to download and setup the required libraries for your platform.\n",
      "Skipping registering GPU devices...\n"
     ]
    }
   ],
   "source": [
    "from spacy_langdetect import LanguageDetector\n",
    "import spacy"
   ]
  },
  {
   "cell_type": "code",
   "execution_count": 9,
   "id": "8057a64c",
   "metadata": {},
   "outputs": [],
   "source": [
    "# df.info()"
   ]
  },
  {
   "cell_type": "code",
   "execution_count": 10,
   "id": "a8ba71d1",
   "metadata": {},
   "outputs": [],
   "source": [
    "from spacy.language import Language"
   ]
  },
  {
   "cell_type": "code",
   "execution_count": 11,
   "id": "aaf4e9b9-9e70-40c7-8ca8-f07b59cca9ee",
   "metadata": {
    "tags": []
   },
   "outputs": [
    {
     "data": {
      "text/plain": [
       "<spacy_langdetect.spacy_langdetect.LanguageDetector at 0x7fae5bd62800>"
      ]
     },
     "execution_count": 11,
     "metadata": {},
     "output_type": "execute_result"
    }
   ],
   "source": [
    "def get_lang_detector(nlp, name):\n",
    "    return LanguageDetector()\n",
    "\n",
    "nlpLD = spacy.load(\"en_core_web_sm\")\n",
    "Language.factory(\"language_detector\", func=get_lang_detector)\n",
    "nlpLD.add_pipe('language_detector', last=True)"
   ]
  },
  {
   "cell_type": "code",
   "execution_count": 12,
   "id": "b94bc53f",
   "metadata": {},
   "outputs": [
    {
     "name": "stdout",
     "output_type": "stream",
     "text": [
      "{'language': 'en', 'score': 0.9999965162629252}\n"
     ]
    }
   ],
   "source": [
    "text = 'Supreme Nike SB Dunk High By any Means Red US10 EU44 Supreme Box Logo Air Force'\n",
    "text2 = 'NEU SKECHERS Damen Sneakers Turnschuhe Memory Foam MODA - LAZY SUNDAYS Blau'\n",
    "doc = nlpLD(text)\n",
    "print(doc._.language)"
   ]
  },
  {
   "cell_type": "code",
   "execution_count": 35,
   "id": "512861f3-df3f-48fc-bb0a-9b896c00ea97",
   "metadata": {},
   "outputs": [],
   "source": [
    "def detect_language(text):\n",
    "    doc = nlpLD(text)\n",
    "    det = doc._.language\n",
    "        \n",
    "    return det['language']"
   ]
  },
  {
   "cell_type": "code",
   "execution_count": 33,
   "id": "b19eecb5-f1c6-4552-a65f-6b80f1f194d3",
   "metadata": {},
   "outputs": [
    {
     "name": "stdout",
     "output_type": "stream",
     "text": [
      "{'language': 'no', 'score': 0.9999972714104637}\n"
     ]
    },
    {
     "data": {
      "text/plain": [
       "'no'"
      ]
     },
     "execution_count": 33,
     "metadata": {},
     "output_type": "execute_result"
    }
   ],
   "source": [
    "detect_language('MICHAEL KORS Sneaker Gr 39')"
   ]
  },
  {
   "cell_type": "code",
   "execution_count": null,
   "id": "d607b53d-5cdb-4105-8f3c-62481d2037f3",
   "metadata": {},
   "outputs": [],
   "source": []
  },
  {
   "cell_type": "markdown",
   "id": "c6a782f2-1d41-4c61-9821-6b7ed316f78a",
   "metadata": {},
   "source": [
    "# spaCy NER"
   ]
  },
  {
   "cell_type": "code",
   "execution_count": 46,
   "id": "83eca15e-f7eb-4811-beac-f966e23b6757",
   "metadata": {},
   "outputs": [],
   "source": [
    "import spacy\n",
    "from spacy.tokens import DocBin\n",
    "import re\n",
    "import emoji\n",
    "\n",
    "regex_specials = [\"\\\\\", \".\", \"+\", \"*\", \"?\", \"^\", \"$\", \"(\", \")\", \"[\", \"]\", \"{\", \"}\", \"|\"]"
   ]
  },
  {
   "cell_type": "code",
   "execution_count": 47,
   "id": "4f64eef5-d96e-477a-a7bc-185f708d946e",
   "metadata": {},
   "outputs": [],
   "source": [
    "nlpEN = spacy.blank('en')\n",
    "nlpDE = spacy.blank('de')\n",
    "db = DocBin()"
   ]
  },
  {
   "cell_type": "code",
   "execution_count": 49,
   "id": "e6802177-c99d-4c46-aa9c-bd6b93356e55",
   "metadata": {},
   "outputs": [],
   "source": [
    "for idx, row in df.iterrows():\n",
    "    text = row['Title']\n",
    "    token = row['Token']\n",
    "    \n",
    "    text = re.sub(r':[^\\s]*:', '', emoji.demojize(text))\n",
    "    \n",
    "    for reg_special in regex_specials:\n",
    "        token = token.replace(reg_special, '\\\\'+reg_special)\n",
    "    print(text + '\\t\\t' + token)\n",
    "    \n",
    "    doc = None\n",
    "    if detect_language(text) == 'de':\n",
    "        doc = nlpDE.make_doc(text)\n",
    "    else:\n",
    "        doc = nlpEN.make_doc(text)\n",
    "        \n",
    "    ents = []\n",
    "    for match in re.finditer(token, text):\n",
    "        span = doc.char_span(match.span()[0], match.span()[1], label = row['Tag'], alignment_mode='contract')\n",
    "        if span is None:\n",
    "            print('Skipping entity')\n",
    "        else:\n",
    "            ents.append(span)\n",
    "    \n",
    "    doc.ents = ents\n",
    "    db.add(doc)"
   ]
  },
  {
   "cell_type": "code",
   "execution_count": null,
   "id": "c4d74803-501f-402c-9ee0-e89a9d639d32",
   "metadata": {},
   "outputs": [],
   "source": []
  },
  {
   "cell_type": "code",
   "execution_count": null,
   "id": "9de45461-3f35-4721-b317-c904fed0b94d",
   "metadata": {},
   "outputs": [],
   "source": []
  },
  {
   "cell_type": "code",
   "execution_count": null,
   "id": "8e456003-7a81-4932-987d-2ecfe8ea0884",
   "metadata": {},
   "outputs": [],
   "source": []
  },
  {
   "cell_type": "code",
   "execution_count": null,
   "id": "8f9ebea9-7da7-4e60-909b-7670641e4c1e",
   "metadata": {},
   "outputs": [],
   "source": []
  },
  {
   "cell_type": "code",
   "execution_count": null,
   "id": "ccd7e25c-ab24-4723-88ad-faa3b1ec71fa",
   "metadata": {},
   "outputs": [],
   "source": []
  }
 ],
 "metadata": {
  "kernelspec": {
   "display_name": "Python 3 (ipykernel)",
   "language": "python",
   "name": "python3"
  },
  "language_info": {
   "codemirror_mode": {
    "name": "ipython",
    "version": 3
   },
   "file_extension": ".py",
   "mimetype": "text/x-python",
   "name": "python",
   "nbconvert_exporter": "python",
   "pygments_lexer": "ipython3",
   "version": "3.10.6"
  }
 },
 "nbformat": 4,
 "nbformat_minor": 5
}
